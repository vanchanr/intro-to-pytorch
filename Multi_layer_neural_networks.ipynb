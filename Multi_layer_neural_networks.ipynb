{
  "nbformat": 4,
  "nbformat_minor": 0,
  "metadata": {
    "colab": {
      "name": "Multi layer neural networks.ipynb",
      "version": "0.3.2",
      "provenance": [],
      "private_outputs": true,
      "collapsed_sections": [],
      "include_colab_link": true
    },
    "kernelspec": {
      "name": "python3",
      "display_name": "Python 3"
    },
    "accelerator": "GPU"
  },
  "cells": [
    {
      "cell_type": "markdown",
      "metadata": {
        "id": "view-in-github",
        "colab_type": "text"
      },
      "source": [
        "<a href=\"https://colab.research.google.com/github/vanchanr/intro-to-pytorch/blob/master/Multi_layer_neural_networks.ipynb\" target=\"_parent\"><img src=\"https://colab.research.google.com/assets/colab-badge.svg\" alt=\"Open In Colab\"/></a>"
      ]
    },
    {
      "metadata": {
        "id": "zRR6uBuJiJha",
        "colab_type": "code",
        "colab": {}
      },
      "cell_type": "code",
      "source": [
        "import torch"
      ],
      "execution_count": 0,
      "outputs": []
    },
    {
      "metadata": {
        "id": "lmLp_YDWjqf8",
        "colab_type": "code",
        "colab": {}
      },
      "cell_type": "code",
      "source": [
        "def sigmoid(x):\n",
        "  return 1/(1 + torch.exp(-x))"
      ],
      "execution_count": 0,
      "outputs": []
    },
    {
      "metadata": {
        "id": "PCKe_-80jwbm",
        "colab_type": "code",
        "colab": {}
      },
      "cell_type": "code",
      "source": [
        "torch.manual_seed(7)\n",
        "\n",
        "n_input = 3\n",
        "n_hidden = 2\n",
        "n_output = 1\n",
        "\n",
        "features = torch.randn(n_input, 1)\n",
        "\n",
        "W1 = torch.randn(n_input, n_hidden)\n",
        "W2 = torch.randn(n_hidden, n_output)\n",
        "\n",
        "B1 = torch.randn(n_hidden, 1)\n",
        "B2 = torch.randn(n_output, 1)"
      ],
      "execution_count": 0,
      "outputs": []
    },
    {
      "metadata": {
        "id": "m6g6XRp0li-7",
        "colab_type": "code",
        "colab": {}
      },
      "cell_type": "code",
      "source": [
        "net1 = torch.mm(W1.transpose(0, 1), features) + B1\n",
        "out1 = sigmoid(net1)"
      ],
      "execution_count": 0,
      "outputs": []
    },
    {
      "metadata": {
        "id": "6B2mHZbumXaG",
        "colab_type": "code",
        "colab": {}
      },
      "cell_type": "code",
      "source": [
        "net2 = torch.mm(W2.transpose(0, 1), out1) + B2\n",
        "out = sigmoid(net2)\n",
        "out"
      ],
      "execution_count": 0,
      "outputs": []
    }
  ]
}