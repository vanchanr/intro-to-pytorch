{
  "nbformat": 4,
  "nbformat_minor": 0,
  "metadata": {
    "colab": {
      "name": "5.Training a network.ipynb",
      "version": "0.3.2",
      "provenance": [],
      "collapsed_sections": [],
      "include_colab_link": true
    },
    "kernelspec": {
      "name": "python3",
      "display_name": "Python 3"
    },
    "accelerator": "GPU"
  },
  "cells": [
    {
      "cell_type": "markdown",
      "metadata": {
        "id": "view-in-github",
        "colab_type": "text"
      },
      "source": [
        "<a href=\"https://colab.research.google.com/github/vanchanr/intro-to-pytorch/blob/master/5_Training_a_network.ipynb\" target=\"_parent\"><img src=\"https://colab.research.google.com/assets/colab-badge.svg\" alt=\"Open In Colab\"/></a>"
      ]
    },
    {
      "metadata": {
        "id": "tA6BpMmI5-d1",
        "colab_type": "code",
        "colab": {}
      },
      "cell_type": "code",
      "source": [
        "import torch\n",
        "from torchvision import datasets, transforms\n",
        "import numpy as np\n",
        "import matplotlib.pyplot as plt\n",
        "\n",
        "%matplotlib inline"
      ],
      "execution_count": 0,
      "outputs": []
    },
    {
      "metadata": {
        "id": "iJVCHNyI6IUW",
        "colab_type": "code",
        "colab": {}
      },
      "cell_type": "code",
      "source": [
        "transform = transforms.Compose([transforms.ToTensor(),\n",
        "                                transforms.Normalize((0.5, 0.5, 0.5), (0.5, 0.5, 0.5))\n",
        "                               ])"
      ],
      "execution_count": 0,
      "outputs": []
    },
    {
      "metadata": {
        "id": "kfJPKGK_6P5D",
        "colab_type": "code",
        "colab": {
          "base_uri": "https://localhost:8080/",
          "height": 119
        },
        "outputId": "1e7bbdea-7b17-4e43-aefb-011573599a5c"
      },
      "cell_type": "code",
      "source": [
        "trainset = datasets.MNIST('MNIST_data/', download=True, train=True, transform=transform)\n",
        "trainloader = torch.utils.data.DataLoader(trainset, batch_size=64, shuffle=True)"
      ],
      "execution_count": 6,
      "outputs": [
        {
          "output_type": "stream",
          "text": [
            "Downloading http://yann.lecun.com/exdb/mnist/train-images-idx3-ubyte.gz\n",
            "Downloading http://yann.lecun.com/exdb/mnist/train-labels-idx1-ubyte.gz\n",
            "Downloading http://yann.lecun.com/exdb/mnist/t10k-images-idx3-ubyte.gz\n",
            "Downloading http://yann.lecun.com/exdb/mnist/t10k-labels-idx1-ubyte.gz\n",
            "Processing...\n",
            "Done!\n"
          ],
          "name": "stdout"
        }
      ]
    },
    {
      "metadata": {
        "id": "sBa764S16Tl9",
        "colab_type": "code",
        "colab": {
          "base_uri": "https://localhost:8080/",
          "height": 51
        },
        "outputId": "e8e8881a-f680-49f5-b010-a1eb347214ea"
      },
      "cell_type": "code",
      "source": [
        "dataiter = iter(trainloader)\n",
        "#get first batch containing 64 images\n",
        "images, labels = dataiter.next()\n",
        "print(images.shape)\n",
        "print(labels.shape)"
      ],
      "execution_count": 10,
      "outputs": [
        {
          "output_type": "stream",
          "text": [
            "torch.Size([64, 1, 28, 28])\n",
            "torch.Size([64])\n"
          ],
          "name": "stdout"
        }
      ]
    },
    {
      "metadata": {
        "id": "UCxp7b9Z6dOc",
        "colab_type": "code",
        "colab": {
          "base_uri": "https://localhost:8080/",
          "height": 282
        },
        "outputId": "0843145a-e831-456e-a257-4fcec3c9033a"
      },
      "cell_type": "code",
      "source": [
        "plt.grid(False)\n",
        "plt.imshow(images[0][0])\n",
        "print(labels[0])"
      ],
      "execution_count": 11,
      "outputs": [
        {
          "output_type": "stream",
          "text": [
            "tensor(7)\n"
          ],
          "name": "stdout"
        },
        {
          "output_type": "display_data",
          "data": {
            "image/png": "[encoded data removed]",
            "text/plain": [
              "<matplotlib.figure.Figure at 0x7fe2edd3d908>"
            ]
          },
          "metadata": {
            "tags": []
          }
        }
      ]
    },
    {
      "metadata": {
        "id": "j-iQfZKh6e9k",
        "colab_type": "code",
        "colab": {
          "base_uri": "https://localhost:8080/",
          "height": 34
        },
        "outputId": "649a08e6-1074-47a4-9c3d-7b8cb284bdc3"
      },
      "cell_type": "code",
      "source": [
        "#flatten images i.e 28x28 image to 1x784 tensor\n",
        "images = images.view(images.shape[0], -1)\n",
        "print(images.shape)"
      ],
      "execution_count": 13,
      "outputs": [
        {
          "output_type": "stream",
          "text": [
            "torch.Size([64, 784])\n"
          ],
          "name": "stdout"
        }
      ]
    },
    {
      "metadata": {
        "id": "6X-FFck76l-R",
        "colab_type": "code",
        "colab": {
          "base_uri": "https://localhost:8080/",
          "height": 136
        },
        "outputId": "ba2bad60-0c5d-42ef-f77e-285c4ee33595"
      },
      "cell_type": "code",
      "source": [
        "#Build a feed forward network\n",
        "from torch import nn\n",
        "model = nn.Sequential(nn.Linear(784, 128),\n",
        "                      nn.ReLU(),\n",
        "                      nn.Linear(128, 64),\n",
        "                      nn.ReLU(),\n",
        "                      nn.Linear(64,10))\n",
        "print(model)"
      ],
      "execution_count": 21,
      "outputs": [
        {
          "output_type": "stream",
          "text": [
            "Sequential(\n",
            "  (0): Linear(in_features=784, out_features=128, bias=True)\n",
            "  (1): ReLU()\n",
            "  (2): Linear(in_features=128, out_features=64, bias=True)\n",
            "  (3): ReLU()\n",
            "  (4): Linear(in_features=64, out_features=10, bias=True)\n",
            ")\n"
          ],
          "name": "stdout"
        }
      ]
    },
    {
      "metadata": {
        "id": "7IHyHis3JapF",
        "colab_type": "text"
      },
      "cell_type": "markdown",
      "source": [
        "PyTorch provides various loss functions through nn module. One of them is nn.CrossEntropyLoss() typically used in classification problems.\n",
        "\n",
        "---\n",
        "\n",
        "> Note1: **nn.CrossEntropyLoss** needs raw outputs from our network called scores or logits as inputs and not the outputs from  softmax as it combines **nn.LogSoftmax()**  and **nn.NLLLoss()** (negative log likelihood loss) in a single class.\n",
        "\n",
        "\n",
        "> Note2: Due to Python Floating Point Arithmetic issues([link](https://docs.python.org/3/tutorial/floatingpoint.html)), they cannot accurately represent values near 0 or 1. So it is **not** recommended to work with probabilities. So to work with log-proabilities, LogSoftmax() is used instead of Softmax(). To get actual probabilities, just do `torch.exp(output)` for output from LogSoftmax()\n",
        "\n",
        "\n",
        "\n",
        "\n",
        "---\n",
        "\n",
        "\n",
        "\n"
      ]
    },
    {
      "metadata": {
        "id": "KbLmn7KwIhzq",
        "colab_type": "code",
        "colab": {
          "base_uri": "https://localhost:8080/",
          "height": 34
        },
        "outputId": "0e48ab81-cb06-4965-e009-c094a761f23f"
      },
      "cell_type": "code",
      "source": [
        "#define a loss function\n",
        "criterion = nn.CrossEntropyLoss()\n",
        "\n",
        "#Forward pass and get the logits\n",
        "logits = model(images)\n",
        "\n",
        "#calculate loss with logits and labels\n",
        "loss = criterion(logits, labels)\n",
        "print(loss)"
      ],
      "execution_count": 22,
      "outputs": [
        {
          "output_type": "stream",
          "text": [
            "tensor(2.2992, grad_fn=<NllLossBackward>)\n"
          ],
          "name": "stdout"
        }
      ]
    },
    {
      "metadata": {
        "id": "yaO0OVs2QXxv",
        "colab_type": "code",
        "colab": {
          "base_uri": "https://localhost:8080/",
          "height": 34
        },
        "outputId": "3987eecd-83a4-4ca9-827d-c4e3650fd091"
      },
      "cell_type": "code",
      "source": [
        "model2 = nn.Sequential(nn.Linear(784, 128),\n",
        "                       nn.ReLU(),\n",
        "                       nn.Linear(128, 64),\n",
        "                       nn.ReLU(),\n",
        "                       nn.Linear(64, 10),\n",
        "                       nn.LogSoftmax(dim=1))\n",
        "criterion2 = nn.NLLLoss()\n",
        "\n",
        "#Forward pass and get the logits\n",
        "logps = model2(images)\n",
        "\n",
        "#calculate loss with logits and labels\n",
        "loss2 = criterion2(logps, labels)\n",
        "print(loss2)"
      ],
      "execution_count": 24,
      "outputs": [
        {
          "output_type": "stream",
          "text": [
            "tensor(2.2934, grad_fn=<NllLossBackward>)\n"
          ],
          "name": "stdout"
        }
      ]
    }
  ]
}
